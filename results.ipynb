{
 "cells": [
  {
   "cell_type": "code",
   "execution_count": 2,
   "metadata": {},
   "outputs": [
    {
     "name": "stdout",
     "output_type": "stream",
     "text": [
      "Epoch 0: Test accuracy 0.856, Time 0.166 (s)\n",
      "Epoch 1: Test accuracy 0.894, Time 0.149 (s)\n",
      "Epoch 2: Test accuracy 0.921, Time 0.141 (s)\n",
      "Epoch 3: Test accuracy 0.929, Time 0.134 (s)\n",
      "Epoch 4: Test accuracy 0.936, Time 0.135 (s)\n",
      "Epoch 5: Test accuracy 0.936, Time 0.139 (s)\n",
      "Epoch 6: Test accuracy 0.945, Time 0.139 (s)\n",
      "Epoch 7: Test accuracy 0.942, Time 0.141 (s)\n",
      "Epoch 8: Test accuracy 0.950, Time 0.135 (s)\n",
      "Epoch 9: Test accuracy 0.953, Time 0.139 (s)\n"
     ]
    }
   ],
   "source": [
    "from main import main\n",
    "class Args:\n",
    "    def __init__(self):\n",
    "        self.gpu = True\n",
    "        self.dataset = \"mnist\"\n",
    "\n",
    "args = Args()\n",
    "\n",
    "\n",
    "results = main(args)\n",
    "\n",
    "\n"
   ]
  }
 ],
 "metadata": {
  "kernelspec": {
   "display_name": "mlx",
   "language": "python",
   "name": "python3"
  },
  "language_info": {
   "codemirror_mode": {
    "name": "ipython",
    "version": 3
   },
   "file_extension": ".py",
   "mimetype": "text/x-python",
   "name": "python",
   "nbconvert_exporter": "python",
   "pygments_lexer": "ipython3",
   "version": "3.12.7"
  }
 },
 "nbformat": 4,
 "nbformat_minor": 2
}
